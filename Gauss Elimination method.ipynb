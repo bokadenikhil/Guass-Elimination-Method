{
 "cells": [
  {
   "cell_type": "markdown",
   "metadata": {},
   "source": [
    "# Solve the System of Linear Equation by Gauss Elimination Method\n",
    "\n",
    "#### We often see the linear equation like:\n",
    "#### ax1 + bx2 + cx3 = d\n",
    "#### ex1 + fx2 + gx3 = h\n",
    "#### ix1 + jx2 + kx3 = l\n",
    "\n",
    "#### We can represent above equation in the form of Ax=b\n",
    "     here A = [a b c ]    x = [x1]   b = [d]\n",
    "              [e f g ]        [x2]       [h]\n",
    "              [i j k ]        [x3]       [l]\n",
    "         \n",
    "#### In this example, A is 3x3 matrix, x and b are 3x1 vectors.\n",
    "#### Generally A can be nxn matrix, x and b are nx1 vectors.\n",
    "\n",
    "To solve for x i.e. to get the values of x1, x2, x3 we have to take a inverse of matrix A. x = inv(A).b.\n",
    "But taking inverse is computationally very expensive. One option is to use Gauss Elimination method in order to \n",
    "solve for x.\n",
    "\n",
    "### Gauss Elimination Method\n",
    "Our main goal is to convert A into upper traingular matrix.\n",
    "Consider above A matrix.\n",
    "\n",
    "#### Step 1: pivot = A[0,0]\n",
    "#### Step 2: \n",
    "           R1 = R0 - pivot/A[1,0]*R1\n",
    "           R2 = R0 - pivot/A[2,0]*R2\n",
    "           In this step , A[1,0] and A[2,0] becomes 0. \n",
    "           Same operation perform on b.\n",
    "           b1 = b0 - pivot/A[1,0] * b1\n",
    "           b2 = b0 - pivot/A[2,0]  * b2\n",
    "           New A = [a  b  c ]     b = [d ]\n",
    "                   [0  f' g']         [h']\n",
    "                   [0  j' k']         [l']\n",
    "           where f' = b - a/e * f\n",
    "                 g' = c - a/e * g\n",
    "                 j' = b - a/i * j\n",
    "                 k' = c - a/i * k\n",
    "                 h' = d - a/e * h\n",
    "                 l' = d - a/i * l\n",
    "\n",
    "#### Step3: \n",
    "           Now we have to make j' = 0 in order to make A = upper traingular matrix.\n",
    "           pivot = A[1,1]\n",
    "           R2 - pivot / A[2,0] * R3\n",
    "       \n",
    "#### Generally this steps repeated till we convert A to  upper traingular matrix.\n",
    "\n",
    "\n",
    "#### After converting A into upper traingular matrix, we use back substitution method to calculate values of x.\n",
    "\n",
    "        new A = [a  b  c  ] x = [x1]    b = [d  ]\n",
    "                [0  f' g' ]     [x2]        [h' ]\n",
    "                [0  0  h'']     [x3]        [l'']\n",
    "        \n",
    "        h''* x3 = l'', so x3 = l''/h''\n",
    "        f'*x2 + g'*x3 = h',  so x2 = (h' - g'*x3)/ f'"
   ]
  },
  {
   "cell_type": "code",
   "execution_count": 1,
   "metadata": {},
   "outputs": [],
   "source": [
    "import numpy as np"
   ]
  },
  {
   "cell_type": "code",
   "execution_count": 2,
   "metadata": {},
   "outputs": [],
   "source": [
    "### Back Substitution\n",
    "\n",
    "def back_subs(A, b): \n",
    "    \"\"\"\n",
    "    Arguments:\n",
    "    A = matrix of dimension(n,n)\n",
    "    b = vector of dimension(n,1)\n",
    "    Returns:\n",
    "    x = vector of dimension(n,1)\n",
    "    \"\"\"\n",
    "    x = np.zeros(len(b))\n",
    "    x[n-1] = b[n-1] / A[n-1,n-1]\n",
    "    for i in range(n-2,-1,-1):\n",
    "        sum_ax = 0\n",
    "        for j in range(i+1,n):\n",
    "            sum_ax += A[i,j] * x[j]\n",
    "            x[i] = (b[i] - sum_ax) / A[i,i]\n",
    "    return x "
   ]
  },
  {
   "cell_type": "code",
   "execution_count": 3,
   "metadata": {},
   "outputs": [],
   "source": [
    "# Gauss Elimination \n",
    "\n",
    "def GElim(A,b):\n",
    "    \"\"\"\n",
    "    Arguments:\n",
    "    A = matrix of dimension(n,n)\n",
    "    b = vector of dimension(n,1)\n",
    "    Returns:\n",
    "    x = vector of dimension(n,1)\n",
    "    \"\"\"\n",
    "    A = A.astype(float)\n",
    "    b = b.astype(float)\n",
    "    n = len(b)\n",
    "    for i in range(n):\n",
    "        pivot = A[i,i]\n",
    "        for j in range(i+1,n):\n",
    "            b[j] = b[i] - (pivot/A[j,i])*b[j]\n",
    "            A[j,:] = A[i,:] - (pivot/A[j,i])*A[j,:]\n",
    "    x = back_subs(A,b)\n",
    "    return x"
   ]
  },
  {
   "cell_type": "code",
   "execution_count": 4,
   "metadata": {},
   "outputs": [],
   "source": [
    "A = np.array([[2, 4, -2],[4, 9, -3],[-2, -3, 7]])\n",
    "b = np.array([2, 8, 10])\n",
    "n = len(b)"
   ]
  },
  {
   "cell_type": "code",
   "execution_count": 5,
   "metadata": {},
   "outputs": [
    {
     "name": "stdout",
     "output_type": "stream",
     "text": [
      "The result using the guass elimination function:  [-1.  2.  2.]\n",
      "The result using inbuilt library:  [-1.  2.  2.]\n"
     ]
    }
   ],
   "source": [
    "# Compairing result with inbuiltlibrary\n",
    "x = GElim(A,b)\n",
    "print(\"The result using the guass elimination function: \",x)\n",
    "x_test = np.linalg.solve(A,b)\n",
    "print(\"The result using inbuilt library: \",x_test)"
   ]
  },
  {
   "cell_type": "code",
   "execution_count": null,
   "metadata": {},
   "outputs": [],
   "source": []
  }
 ],
 "metadata": {
  "kernelspec": {
   "display_name": "Python 3",
   "language": "python",
   "name": "python3"
  },
  "language_info": {
   "codemirror_mode": {
    "name": "ipython",
    "version": 3
   },
   "file_extension": ".py",
   "mimetype": "text/x-python",
   "name": "python",
   "nbconvert_exporter": "python",
   "pygments_lexer": "ipython3",
   "version": "3.7.6"
  }
 },
 "nbformat": 4,
 "nbformat_minor": 4
}
